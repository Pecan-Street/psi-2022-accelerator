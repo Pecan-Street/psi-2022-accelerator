{
 "cells": [
  {
   "cell_type": "code",
   "execution_count": 1,
   "id": "smaller-pepper",
   "metadata": {},
   "outputs": [],
   "source": [
    "# -*- coding: utf-8 -*-\n",
    "\n",
    "\n",
    "'''\n",
    "builds input values into python files for DayCent using latin hypercube sampling\n",
    "\n",
    "\n",
    "\n",
    "requires pip installation of:\n",
    "scikit-optimize\n",
    "numpy\n",
    "'''\n",
    "\n",
    "import os\n",
    "import numpy as np\n",
    "import time\n",
    "np.random.seed(int(time.time()))\n",
    "import matplotlib.pyplot as plt\n",
    "from skopt.space import Space\n",
    "from skopt.sampler import Sobol\n",
    "from skopt.sampler import Lhs\n",
    "from skopt.sampler import Halton\n",
    "from skopt.sampler import Hammersly\n",
    "from skopt.sampler import Grid\n",
    "from scipy.spatial.distance import pdist\n"
   ]
  },
  {
   "cell_type": "code",
   "execution_count": 2,
   "id": "imported-student",
   "metadata": {},
   "outputs": [
    {
     "data": {
      "text/plain": [
       "'# 0 clteff_1 (0.0, 3.0) , # 1 clteff_2 = clteff_1 + 1.0, # 2 clteff_3 = clteff_1 + 1.0, # 3 clteff_4 = ctleff_1, # 4 cult_nt_date (124,145), # 5 cult_b_date = cult_nt_date + 1, # 6 crop_sybn2_date cult_nt_date + 1, # 7 crop_plant_date cult_nt_date +1# 8 feramt_n4_1 0.0-20.0 float, # 9 feramt_n4_2 0.0-5.0 float, # 10 feramt_n4_3 0.0-5.0 float, # 11 feramt_n4_date = cult_nt_date +1, # 12 rmvstr 0.0-1.0 float, # 13 remwsd 0.0-1.0 float, # 14 harv_g_date 272-292 int'"
      ]
     },
     "execution_count": 2,
     "metadata": {},
     "output_type": "execute_result"
    }
   ],
   "source": [
    "# set up the comment string:\n",
    "\n",
    "comment_str = '# 0 clteff_1 (0.0, 3.0) , # 1 clteff_2 = clteff_1 + 1.0, # 2 clteff_3 = clteff_1 + 1.0, '\\\n",
    "    '# 3 clteff_4 = ctleff_1, '\\\n",
    "    '# 4 cult_nt_date (124,145), # 5 cult_b_date = cult_nt_date + 1, '\\\n",
    "    '# 6 crop_sybn2_date cult_nt_date + 1, # 7 crop_plant_date cult_nt_date +1'\\\n",
    "    '# 8 feramt_n4_1 0.0-20.0 float, # 9 feramt_n4_2 0.0-5.0 float, # 10 feramt_n4_3 0.0-5.0 float, '\\\n",
    "    '# 11 feramt_n4_date = cult_nt_date +1, '\\\n",
    "    '# 12 rmvstr 0.0-1.0 float, # 13 remwsd 0.0-1.0 float, # 14 harv_g_date 272-292 int'\n",
    "comment_str"
   ]
  },
  {
   "cell_type": "code",
   "execution_count": 3,
   "id": "rental-rescue",
   "metadata": {},
   "outputs": [
    {
     "name": "stdout",
     "output_type": "stream",
     "text": [
      "./matrices already exists\n"
     ]
    }
   ],
   "source": [
    "# make sure matrices directory exists for output files\n",
    "dir = \"./matrices\"\n",
    "if not os.path.isdir(dir):\n",
    "    print(\"creating {}\".format(dir))\n",
    "    os.mkdir(dir)\n",
    "else:\n",
    "    print(\"{} already exists\".format(dir))"
   ]
  },
  {
   "cell_type": "code",
   "execution_count": 4,
   "id": "enormous-workplace",
   "metadata": {},
   "outputs": [
    {
     "name": "stdout",
     "output_type": "stream",
     "text": [
      "CPU times: user 1.69 s, sys: 132 ms, total: 1.82 s\n",
      "Wall time: 1.82 s\n"
     ]
    }
   ],
   "source": [
    "%%time\n",
    "n_samples = [10, 100, 1000, 10000, 100000]\n",
    "# n_samples = [10, 20]\n",
    "\n",
    "# all the variable spaces, see inline comments. I make them negative when they're actually going to be replaced\n",
    "# programmatically so it's easy to spot in the resulting python files\n",
    "space = Space([(0.0, 3.0),    # 0 clteff_1\n",
    "               (-0.3, -0.0),  # 1 clteff_2 = clteff_1 + 1.0\n",
    "               (-0.3, -0.0),  # 2 clteff_3 = clteff_1 + 1.0\n",
    "               (-0.3, -0.0),  # 3 clteff_4 = clteff_1\n",
    "               (124,145),     # 4 cult_nt_date (124,145)\n",
    "               (-145, -124),  # 5 cult_b_date = cult_nt_date +1\n",
    "               (-145, -124),  # 6 crop_sybn2_date = cult_nt_date +1\n",
    "               (-145, -124),  # 7 crop_plant_date = cult_nt_date + 1\n",
    "               (0.0, 20.0),   # 8 feramt_n4_1 0.0-20.0 float\n",
    "               (0.0, 5.0),    # 9 feramt_n4_2 0.0-5.0 float\n",
    "               (0.0, 5.0),    # 10 feramt_n4_3 0.0-5.0 float\n",
    "               (-133, -113),  # 11 feramt_n4_date = cult_nt_date +1\n",
    "               (0.0, 1.0),    # 12 rmvstr 0.0-1.0 float\n",
    "               (0.0, 1.0),    # 13 remwsd 0.0-1.0 float\n",
    "               (272, 292)     # 14 harv_g_date 272, 292 int\n",
    "              ]) \n",
    "\n",
    "lhs = Lhs(lhs_type=\"classic\", criterion=None)\n",
    "for samplesize in n_samples:\n",
    "    x = lhs.generate(space.dimensions, samplesize)\n",
    "    file = open(\"matrices/LHS_og_{}.py\".format(samplesize),\"w\")\n",
    "    str_x = repr(x)\n",
    "    file.write(\"og_matrix = \")\n",
    "    file.write(str_x)\n",
    "    file.close()"
   ]
  },
  {
   "cell_type": "code",
   "execution_count": 5,
   "id": "animal-mother",
   "metadata": {},
   "outputs": [
    {
     "name": "stdout",
     "output_type": "stream",
     "text": [
      "done generating OG input matrix files\n"
     ]
    }
   ],
   "source": [
    "print(\"done generating OG input matrix files\")"
   ]
  },
  {
   "cell_type": "code",
   "execution_count": 6,
   "id": "sealed-tracker",
   "metadata": {},
   "outputs": [
    {
     "name": "stdout",
     "output_type": "stream",
     "text": [
      "CPU times: user 4.27 s, sys: 943 ms, total: 5.22 s\n",
      "Wall time: 5.2 s\n"
     ]
    }
   ],
   "source": [
    "%%time\n",
    "\n",
    "import sys\n",
    "import importlib\n",
    "# now we have to read them, fix them, rewrite them for the n+1 situation\n",
    "for sz in n_samples:\n",
    "    globals().update(importlib.import_module('matrices.LHS_og_{}'.format(sz)).__dict__)\n",
    "    #print(og_matrix)\n",
    "    for bit in og_matrix:\n",
    "        '''\n",
    "        print('astgc={}, astgc_d={}, clteff_1={}, clteff_2={}, clteff_3={}, clteff_4={}, '\\\n",
    "              'cult_nt_date={}, cult_b_date={}, feramt_1={}, feramt_2={}, feramt_3={}, '\\\n",
    "              'fert_n7_date= {}, crop_c6_date={}, pltm_date={}, feramt_n10_1={}, feramt_n10_2={}, feramt_n10_3={}, '\\\n",
    "              'feramt_n10_date={}, rmvstr={}, remwsd={}, harv_g_date={}'\n",
    "              .format(bit[0], bit[1], bit[2], bit[3], bit[4], bit[5], bit[6], bit[7], \n",
    "                      bit[8], bit[9], bit[10], bit[11], bit[12], bit[13], bit[14], bit[15], bit[16], bit[17], bit[18], bit[19], bit[20]))\n",
    "        '''\n",
    "    #print(\"\\n\\n\")\n",
    "    \n",
    "    for i in range(0, len(og_matrix)):\n",
    "        # print(og_matrix[i])\n",
    "        og_matrix[i] = [\n",
    "            # clteff_1, clteff_2 = clteff_1 + 1, clteff_3 = clteff_1 +1, clteff_4 = clteff_1\n",
    "            og_matrix[i][0], og_matrix[i][0] + 1.0,  og_matrix[i][0] + 1.0, og_matrix[i][0],\n",
    "            #4: cult_nt_date, cult_b_date = cult_nt_date + 1, crop_sybn2_date = cult_nt_date +1, crop_plant_date = cult_nt_date+1\n",
    "            og_matrix[i][4], og_matrix[i][4] + 1 , og_matrix[i][4] + 1, og_matrix[i][4] + 1,\n",
    "            #8: feramt_n4_1, 9: feramt_n4_2, 10:feramt_n4_3\n",
    "            og_matrix[i][8], og_matrix[i][9], og_matrix[i][10], \n",
    "            #11: feramt_n4_date = cult_nt_date + 1\n",
    "            og_matrix[i][4] + 1,\n",
    "            # 12 rmvstr 0.0-1.0 float, 13 remwsd 0.0-1.0 float\n",
    "            og_matrix[i][12], og_matrix[i][13],\n",
    "            # 20 harv_g_date 272-292 int\n",
    "            og_matrix[i][14]\n",
    "           ]\n",
    "        #print(og_matrix[i])\n",
    "    # print(\"\\n\\n\")\n",
    "    \n",
    "    file = open(\"matrices/LHS_{}.py\".format(sz),\"w\")\n",
    "    file.write(comment_str)\n",
    "    file.write(\"\\n\\n\")\n",
    "    file.write(\"matrix = {}\".format(og_matrix))\n",
    "    #file.write(str(og_matrix)\n",
    "    file.close()"
   ]
  },
  {
   "cell_type": "code",
   "execution_count": null,
   "id": "hindu-mercury",
   "metadata": {},
   "outputs": [],
   "source": []
  }
 ],
 "metadata": {
  "kernelspec": {
   "display_name": "Python 3",
   "language": "python",
   "name": "python3"
  },
  "language_info": {
   "codemirror_mode": {
    "name": "ipython",
    "version": 3
   },
   "file_extension": ".py",
   "mimetype": "text/x-python",
   "name": "python",
   "nbconvert_exporter": "python",
   "pygments_lexer": "ipython3",
   "version": "3.8.8"
  }
 },
 "nbformat": 4,
 "nbformat_minor": 5
}
