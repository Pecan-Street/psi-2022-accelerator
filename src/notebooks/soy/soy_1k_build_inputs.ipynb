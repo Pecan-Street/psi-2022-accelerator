{
 "cells": [
  {
   "cell_type": "code",
   "execution_count": 1,
   "id": "educational-finding",
   "metadata": {},
   "outputs": [],
   "source": [
    "'''\n",
    "builds the diff files to be used for a big ol' daycent run on aws batch\n",
    "uses the templates directory to build new graz.100, fix.100, and rainmore_exp.sch files\n",
    "and insert the already generated LHS values into those files\n",
    "\n",
    "they're numbered by \"run\", wherein if we're doing 10k runs it'll be diff_0 through diff_10000\n",
    "\n",
    "the folder structure just uses the second level epoch for the containing folder in case we needed to run one of the same size\n",
    "\n",
    "it makes a directory for each run, compresses it into a tgz, then deletes the original folder, so you'll end up with diff_0.tgz through diff_10000.tgz\n",
    "'''\n",
    "import matrices.LHS_1000\n",
    "import os\n",
    "import subprocess\n",
    "import time"
   ]
  },
  {
   "cell_type": "code",
   "execution_count": 2,
   "id": "structured-investigation",
   "metadata": {},
   "outputs": [],
   "source": [
    "matrix = matrices.LHS_1000.matrix\n",
    "# matrix"
   ]
  },
  {
   "cell_type": "code",
   "execution_count": 3,
   "id": "qualified-custody",
   "metadata": {},
   "outputs": [],
   "source": [
    "size = len(matrix)\n",
    "# experiment or crop name or other identifier\n",
    "exp = \"soybeans\""
   ]
  },
  {
   "cell_type": "code",
   "execution_count": 4,
   "id": "refined-intermediate",
   "metadata": {},
   "outputs": [],
   "source": [
    "# create schedule file with new inputs/dates based on the template\n",
    "def create_sched(cult_nt_date, cult_b_date, crop_sybn2_date, crop_plant_date, fert_n4_date, harv_g_date, epoch, i):\n",
    "    # read template\n",
    "    with open('templates/{}.sch'.format(exp)) as f:\n",
    "        lines = f.readlines()\n",
    "    \n",
    "    sout = open(\"diffs/{}/diff_{}/{}.sch\".format(epoch, i, exp), \"w\")\n",
    "    for line in lines:\n",
    "        if line.startswith(\"1  139  CULT  NT\"):\n",
    "            sout.write(\"1  {}  CULT NTX #PSI\\n\".format(cult_nt_date))\n",
    "        elif line.startswith(\"1  140  CULT  B  #planter\"):\n",
    "            sout.write(\"1  {} CULT B # PSI\\n\".format(cult_b_date))\n",
    "        elif line.startswith(\"1  140  CROP  SYBN2\"):\n",
    "            sout.write(\"1  {} CROP SYBN2 # PSI\\n\".format(crop_sybn2_date))\n",
    "        elif line.startswith(\"1  140  PLTM\"):\n",
    "            sout.write(\"1  {} PLTM #PSI\\n\".format(crop_plant_date))\n",
    "        elif line.startswith(\"1   145   FERT   N4   # 25/05\"):\n",
    "            sout.write(\"1  {} FERT  XN4   # PSI\\n\".format(fert_n4_date))\n",
    "        elif line.startswith(\"1  282  HARV  G\"):\n",
    "            sout.write(\"1  {} HARV  X # PSI\\n\".format(harv_g_date))\n",
    "        elif line.startswith(\"1  281 LAST # PSI\\n\"):\n",
    "            sout.write(\"1  {} LAST # PSI\\n\".format(harv_g_date - 1))\n",
    "        else:\n",
    "            sout.write(line)\n",
    "    sout.close()"
   ]
  },
  {
   "cell_type": "code",
   "execution_count": 5,
   "id": "instant-bachelor",
   "metadata": {},
   "outputs": [],
   "source": [
    "# appends new NTX onto the end of the cult.100\n",
    "def create_cult(clteff_1, clteff_2, clteff_3, clteff_4, epoch, i):\n",
    "    # read template\n",
    "    with open('templates/cult.100') as f:\n",
    "        lines = f.read()\n",
    "    \n",
    "    # write to the new diff file with the block appended to the end\n",
    "    foutfile = open(\"diffs/{}/diff_{}/cult.100\".format(epoch, i), \"w\")\n",
    "    foutfile.write(lines)\n",
    "    foutfile.write(\"NTX\\n\")\n",
    "    foutfile.write(\"0 CULTRA(1)\\n0 CULTRA(2)\\n0 CULTRA(3)\\n0 CULTRA(4)\\n0 CULTRA(5)\\n0 CULTRA(6)\\n0 CULTRA(7)\\n\")\n",
    "    foutfile.write(\"{:0.3f} CLTEFF(1)\\n\".format(clteff_1))\n",
    "    foutfile.write(\"{:0.3f} CLTEFF(2)\\n\".format(clteff_2))\n",
    "    foutfile.write(\"{:0.3f} CLTEFF(3)\\n\".format(clteff_3))\n",
    "    foutfile.write(\"{:0.3f} CLTEFF(4)\\n\".format(clteff_4))\n",
    "    foutfile.write(\"\\n\")\n",
    "    foutfile.close()"
   ]
  },
  {
   "cell_type": "code",
   "execution_count": 6,
   "id": "flying-tiger",
   "metadata": {},
   "outputs": [],
   "source": [
    "# fert100 file\n",
    "# creating new XN4 Fert stanza\n",
    "def create_fert(feramt_n4_1, feramt_n4_2, feramt_n4_3, epoch, i):\n",
    "    # read template\n",
    "    with open('templates/fert.100') as f:\n",
    "        lines = f.read()\n",
    "    \n",
    "    n4 = '''XN4 \n",
    "{:0.3f} FERAMT(1)\n",
    "{:0.3f} FERAMT(2)\n",
    "{:0.3f} FERAMT(3)\n",
    "0 AUFERT\n",
    "1 NINHIB\n",
    "7 NINHTM\n",
    "0.5 FRAC_NH4\n",
    "0.5 FRAC_NO3\n",
    "'''.format(feramt_n4_1, feramt_n4_2, feramt_n4_3)\n",
    "    \n",
    "    \n",
    "    # write to the new diff file with the block appended to the end\n",
    "    foutfile = open(\"diffs/{}/diff_{}/fert.100\".format(epoch, i), \"w\")\n",
    "    foutfile.write(lines)\n",
    "    foutfile.write(n4)\n",
    "    foutfile.write(\"\\n\")\n",
    "    foutfile.close()"
   ]
  },
  {
   "cell_type": "code",
   "execution_count": 7,
   "id": "historical-child",
   "metadata": {},
   "outputs": [],
   "source": [
    "# harv.100 file\n",
    "def create_harv(rmvstr, remwsd, epoch, i):\n",
    "    # read template\n",
    "    with open('templates/harv.100') as f:\n",
    "        lines = f.read()\n",
    "    x = '''X \n",
    "0 AGLREM\n",
    "0 BGLREM\n",
    "1 FLGHRV\n",
    "{:0.3f} RMVSTR\n",
    "{:0.3f} REMWSD\n",
    "0 HIBG'''.format(rmvstr, remwsd)\n",
    "    \n",
    "    # write to the new diff file with the block appended to the end\n",
    "    foutfile = open(\"diffs/{}/diff_{}/harv.100\".format(epoch, i), \"w\")\n",
    "    foutfile.write(lines)\n",
    "    foutfile.write(x)\n",
    "    foutfile.write(\"\\n\")\n",
    "    foutfile.close()\n",
    "    "
   ]
  },
  {
   "cell_type": "code",
   "execution_count": 8,
   "id": "tender-wheat",
   "metadata": {},
   "outputs": [
    {
     "name": "stdout",
     "output_type": "stream",
     "text": [
      "folder_name is diffs/1665667448\n",
      "Made directories.\n"
     ]
    }
   ],
   "source": [
    "# set up directory structure\n",
    "num_diffs = len(matrix)\n",
    "\n",
    "dir = \"./diffs\"\n",
    "if not os.path.isdir(dir):\n",
    "    print(\"creating {}\".format(dir))\n",
    "    os.mkdir(dir)\n",
    "\n",
    "# create new diffs/epoch folder\n",
    "epoch = int(time.time())\n",
    "folder_name = 'diffs/{}'.format(epoch)\n",
    "print(\"folder_name is {}\".format(folder_name))\n",
    "os.mkdir(folder_name)\n",
    "\n",
    "# create folder for each row in the matrix\n",
    "for i in range(num_diffs):\n",
    "    path = os.path.join(folder_name, \"diff_{}\".format(i))\n",
    "    # print(\"Making dir {}\".format(path))\n",
    "    os.mkdir(path)\n",
    "\n",
    "print(\"Made directories.\")"
   ]
  },
  {
   "cell_type": "code",
   "execution_count": 9,
   "id": "independent-palace",
   "metadata": {},
   "outputs": [
    {
     "name": "stdout",
     "output_type": "stream",
     "text": [
      "epoch is 1665667448\n",
      "Done\n",
      "CPU times: user 1.01 s, sys: 3.38 s, total: 4.39 s\n",
      "Wall time: 15.1 s\n"
     ]
    }
   ],
   "source": [
    "%%time\n",
    "\n",
    "# write the diff files to the diffs directory and tgz them up\n",
    "\n",
    "i = 0\n",
    "print(\"epoch is {}\".format(epoch))\n",
    "for row in matrix:\n",
    "    clteff_1 = row[0]\n",
    "    clteff_2 = row[1]\n",
    "    clteff_3 = row[2]\n",
    "    clteff_4 = row[3]\n",
    "    cult_nt_date = row[4]\n",
    "    cult_b_date = row[5]\n",
    "    crop_sybn2_date = row[6]\n",
    "    crop_plant_date = row[7]\n",
    "    feramt_n4_1 = row[8]\n",
    "    feramt_n4_2 = row[9]\n",
    "    feramt_n4_3 = row[10]\n",
    "    feramt_n4_date = row[11]\n",
    "    rmvstr = row[12]\n",
    "    remwsd = row[13]\n",
    "    harv_g_date = row[14]\n",
    "    \n",
    "    # write the diff files to the numbered directories\n",
    "    # create_graz100(flgrem, epoch, i)\n",
    "    # create_fix(decomp, minlch, varat12, epoch, i)\n",
    "    create_sched(cult_nt_date, cult_b_date, crop_sybn2_date, crop_plant_date, feramt_n4_date, harv_g_date, epoch, i)\n",
    "    create_cult(clteff_1, clteff_2, clteff_3, clteff_4, epoch, i)\n",
    "    create_fert(feramt_n4_1, feramt_n4_2, feramt_n4_3, epoch, i)\n",
    "    create_harv(rmvstr, remwsd, epoch, i)\n",
    "    \n",
    "    # change to the diffs/epoch directory so we don't have a nested tgz with the parent directories\n",
    "    os.chdir('diffs/{}'.format(epoch))\n",
    "    \n",
    "    # create a tgz of each of those directories\n",
    "    dirname = 'diff_{}'.format(i)\n",
    "    tarname = 'diff_{}.tgz'.format(i)\n",
    "    subprocess.call(['tar', '-czf', tarname, dirname])\n",
    "    subprocess.call(['rm', '-rf', dirname])\n",
    "    \n",
    "    os.chdir('../..')\n",
    "    \n",
    "    i = i + 1\n",
    "\n",
    "print(\"Done\")"
   ]
  },
  {
   "cell_type": "code",
   "execution_count": 10,
   "id": "micro-thanksgiving",
   "metadata": {},
   "outputs": [
    {
     "data": {
      "text/plain": [
       "'/home/jovyan/accelerator/newdata/soy'"
      ]
     },
     "execution_count": 10,
     "metadata": {},
     "output_type": "execute_result"
    }
   ],
   "source": [
    "os.getcwd()"
   ]
  },
  {
   "cell_type": "code",
   "execution_count": 11,
   "id": "statistical-wisconsin",
   "metadata": {},
   "outputs": [
    {
     "data": {
      "text/plain": [
       "'/home/jovyan/accelerator/newdata/soy/diffs/1665667448'"
      ]
     },
     "execution_count": 11,
     "metadata": {},
     "output_type": "execute_result"
    }
   ],
   "source": [
    "# where we at?\n",
    "os.chdir(f'diffs/{epoch}')\n",
    "os.getcwd()"
   ]
  },
  {
   "cell_type": "code",
   "execution_count": 12,
   "id": "furnished-jones",
   "metadata": {},
   "outputs": [
    {
     "name": "stdout",
     "output_type": "stream",
     "text": [
      "s3://daycent-jobs/jobs/soybeans_1000/diffs/\n"
     ]
    }
   ],
   "source": [
    "s3_diffs = 's3://daycent-jobs/jobs/{}_{}/diffs/'.format(exp, len(matrix))\n",
    "print(s3_diffs)"
   ]
  },
  {
   "cell_type": "code",
   "execution_count": 13,
   "id": "scheduled-carroll",
   "metadata": {},
   "outputs": [
    {
     "name": "stdout",
     "output_type": "stream",
     "text": [
      "CPU times: user 3.86 ms, sys: 3.97 ms, total: 7.83 ms\n",
      "Wall time: 16.8 s\n"
     ]
    },
    {
     "data": {
      "text/plain": [
       "0"
      ]
     },
     "execution_count": 13,
     "metadata": {},
     "output_type": "execute_result"
    }
   ],
   "source": [
    "%%time\n",
    "# copy these to the right place\n",
    "subprocess.call(['/home/jovyan/aws-cli/v2/current/bin/aws', 's3', 'cp', '.', s3_diffs, \n",
    "                 '--recursive', '--exclude', '\"*\"', '--include', '\"*.tgz\"'])"
   ]
  },
  {
   "cell_type": "code",
   "execution_count": null,
   "id": "closed-starter",
   "metadata": {},
   "outputs": [],
   "source": []
  }
 ],
 "metadata": {
  "kernelspec": {
   "display_name": "Python 3",
   "language": "python",
   "name": "python3"
  },
  "language_info": {
   "codemirror_mode": {
    "name": "ipython",
    "version": 3
   },
   "file_extension": ".py",
   "mimetype": "text/x-python",
   "name": "python",
   "nbconvert_exporter": "python",
   "pygments_lexer": "ipython3",
   "version": "3.8.8"
  }
 },
 "nbformat": 4,
 "nbformat_minor": 5
}
