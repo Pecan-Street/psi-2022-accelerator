{
 "cells": [
  {
   "cell_type": "code",
   "execution_count": 1,
   "id": "alike-moses",
   "metadata": {},
   "outputs": [],
   "source": [
    "'''\n",
    "This notebook takes the large *.tgz file created from the batch jobs notebook, as well as the generated inputs from the MatrixBuilder notebook\n",
    "and creates tensor files to be imported to train and run the model. \n",
    "\n",
    "You should make sure you're importing the correct size matrix from the matrices directory, and set your exp (experiment name) to match the one from your batch jobs notebook.\n",
    "'''\n",
    "\n",
    "import os\n",
    "import csv\n",
    "import tarfile\n",
    "import pandas as pd\n",
    "\n",
    "\n",
    "# imports the pre-generated N input matrix into a python list\n",
    "# make sure this is the correct size for the number of jobs you want to run!\n",
    "import matrices.LHS_1000\n",
    "\n",
    "# grab the input matrix, again make sure this is correct!!\n",
    "matrix = matrices.LHS_1000.matrix"
   ]
  },
  {
   "cell_type": "code",
   "execution_count": 2,
   "id": "needed-thumbnail",
   "metadata": {},
   "outputs": [],
   "source": [
    "matrix_size = len(matrix)\n",
    "exp = 'soybeans'  # Be sure to set this correctly for your generated outputs from the batch job notebook!!!"
   ]
  },
  {
   "cell_type": "code",
   "execution_count": 3,
   "id": "intimate-bristol",
   "metadata": {},
   "outputs": [
    {
     "data": {
      "text/plain": [
       "[800, 900]"
      ]
     },
     "execution_count": 3,
     "metadata": {},
     "output_type": "execute_result"
    }
   ],
   "source": [
    "# how we want to split up the inputs and outputs. Currently set to 80%, 10%, 10%\n",
    "splits = [int(matrix_size * .8), int(matrix_size * .9)]\n",
    "splits"
   ]
  },
  {
   "cell_type": "code",
   "execution_count": 4,
   "id": "finished-analyst",
   "metadata": {},
   "outputs": [
    {
     "data": {
      "text/plain": [
       "'outputs/soybeans_1000.tgz'"
      ]
     },
     "execution_count": 4,
     "metadata": {},
     "output_type": "execute_result"
    }
   ],
   "source": [
    "# where's our tgz file from the previous notebook?\n",
    "gz_file = 'outputs/{}_{}.tgz'.format(exp, matrix_size)\n",
    "gz_file"
   ]
  },
  {
   "cell_type": "code",
   "execution_count": 5,
   "id": "temporal-candle",
   "metadata": {},
   "outputs": [],
   "source": [
    "tar = tarfile.open(gz_file, \"r:*\")\n",
    "# tar.getmembers()"
   ]
  },
  {
   "cell_type": "code",
   "execution_count": 6,
   "id": "intermediate-cooking",
   "metadata": {},
   "outputs": [
    {
     "name": "stdout",
     "output_type": "stream",
     "text": [
      "1000\n",
      "CPU times: user 15.5 s, sys: 120 ms, total: 15.6 s\n",
      "Wall time: 15.6 s\n"
     ]
    }
   ],
   "source": [
    "%%time\n",
    "\n",
    "# read in all of the csv files into separate pandas dataframes and store those in a list\n",
    "# this can take ~40 minutes when there's 10k of them\n",
    "\n",
    "csv_files = tar.getmembers()[1:]  # skips the first one because it's a directory not a file\n",
    "csv_files = sorted(csv_files, key=lambda m: m.name)  # they come out in a very odd order, want them 0-9 sorted\n",
    "print(len(csv_files))\n",
    "dfs = []\n",
    "for csv in csv_files:\n",
    "    df = pd.read_csv(tar.extractfile(csv))\n",
    "    dfs.append(df)"
   ]
  },
  {
   "cell_type": "code",
   "execution_count": 7,
   "id": "ceramic-attempt",
   "metadata": {},
   "outputs": [
    {
     "name": "stdout",
     "output_type": "stream",
     "text": [
      "1000\n"
     ]
    }
   ],
   "source": [
    "print(len(dfs))"
   ]
  },
  {
   "cell_type": "code",
   "execution_count": 8,
   "id": "played-silence",
   "metadata": {},
   "outputs": [
    {
     "name": "stdout",
     "output_type": "stream",
     "text": [
      "CPU times: user 352 ms, sys: 50.6 ms, total: 403 ms\n",
      "Wall time: 429 ms\n"
     ]
    },
    {
     "data": {
      "text/plain": [
       "array([[1.9023800e+00, 2.9023800e+00, 2.9023800e+00, ..., 8.5860896e-01,\n",
       "        3.2329133e-01, 2.7900000e+02],\n",
       "       [2.0051787e+00, 3.0051787e+00, 3.0051787e+00, ..., 4.4138268e-01,\n",
       "        8.1720603e-01, 2.7900000e+02],\n",
       "       [1.9429902e+00, 2.9429901e+00, 2.9429901e+00, ..., 9.2658317e-01,\n",
       "        3.8099919e-02, 2.7700000e+02],\n",
       "       ...,\n",
       "       [2.4215987e+00, 3.4215987e+00, 3.4215987e+00, ..., 9.0290111e-01,\n",
       "        9.2163301e-01, 2.8700000e+02],\n",
       "       [8.7747645e-01, 1.8774765e+00, 1.8774765e+00, ..., 1.9170301e-01,\n",
       "        5.5725002e-01, 2.8500000e+02],\n",
       "       [1.7519276e+00, 2.7519276e+00, 2.7519276e+00, ..., 4.0958419e-01,\n",
       "        4.2733118e-01, 2.8800000e+02]], dtype=float32)"
      ]
     },
     "execution_count": 8,
     "metadata": {},
     "output_type": "execute_result"
    }
   ],
   "source": [
    "%%time\n",
    "\n",
    "# convert list to numpy array of type float32\n",
    "\n",
    "import torch\n",
    "import numpy as np\n",
    "\n",
    "np_inputs = np.array(matrix, dtype=\"float32\")\n",
    "np_inputs"
   ]
  },
  {
   "cell_type": "code",
   "execution_count": 9,
   "id": "trying-coffee",
   "metadata": {},
   "outputs": [
    {
     "name": "stdout",
     "output_type": "stream",
     "text": [
      "train: 800, val: 100, test: 100\n",
      "CPU times: user 146 µs, sys: 0 ns, total: 146 µs\n",
      "Wall time: 126 µs\n"
     ]
    }
   ],
   "source": [
    "%%time\n",
    "\n",
    "# split the numpy input array into 3 chunks (training, test, validate)\n",
    "[in_train_np, in_validate_np, in_test_np] = np.array_split(np_inputs, splits)\n",
    "print('train: {}, val: {}, test: {}'.format(len(in_train_np), len(in_validate_np), len(in_test_np)))"
   ]
  },
  {
   "cell_type": "code",
   "execution_count": 10,
   "id": "diverse-section",
   "metadata": {},
   "outputs": [
    {
     "name": "stdout",
     "output_type": "stream",
     "text": [
      "CPU times: user 190 ms, sys: 21.7 ms, total: 212 ms\n",
      "Wall time: 197 ms\n"
     ]
    },
    {
     "data": {
      "text/plain": [
       "1000"
      ]
     },
     "execution_count": 10,
     "metadata": {},
     "output_type": "execute_result"
    }
   ],
   "source": [
    "%%time\n",
    "\n",
    "# grab just the columns we want. And right now we're just grabbing the last value of each of them\n",
    "\n",
    "np_outs_list = []\n",
    "for df in dfs:\n",
    "    np_outs_list.append([df['somtc'].iat[-1], df['somsc'].iat[-1], df['agcprd'].iat[-1], \n",
    "                         df['cgrain'].iat[-1], df['stemp'].iat[-1]])\n",
    "    # print('appending somsc={} and bglivcj={}'.format(df['somsc'].iat[-1], df['bglivcj'].iat[-1]))\n",
    "len(np_outs_list)"
   ]
  },
  {
   "cell_type": "code",
   "execution_count": 11,
   "id": "amended-criticism",
   "metadata": {},
   "outputs": [
    {
     "data": {
      "text/plain": [
       "1000"
      ]
     },
     "execution_count": 11,
     "metadata": {},
     "output_type": "execute_result"
    }
   ],
   "source": [
    "len(np_outs_list)"
   ]
  },
  {
   "cell_type": "code",
   "execution_count": 12,
   "id": "local-calcium",
   "metadata": {},
   "outputs": [
    {
     "name": "stdout",
     "output_type": "stream",
     "text": [
      "CPU times: user 732 µs, sys: 235 µs, total: 967 µs\n",
      "Wall time: 975 µs\n"
     ]
    },
    {
     "data": {
      "text/plain": [
       "array([[2.4281787e+03, 2.3865642e+03, 1.2176840e+02, 2.1933000e+00,\n",
       "        7.8960001e-01],\n",
       "       [2.5635049e+03, 2.5088774e+03, 1.2374220e+02, 2.1006999e+00,\n",
       "        3.6280000e-01],\n",
       "       [2.6459824e+03, 2.5843379e+03, 1.2507270e+02, 1.8857000e+00,\n",
       "        3.0590001e-01],\n",
       "       ...,\n",
       "       [2.4322808e+03, 2.3901003e+03, 1.0937180e+02, 1.7424999e+00,\n",
       "        6.8769997e-01],\n",
       "       [2.6858965e+03, 2.6305942e+03, 1.2220000e+02, 2.1262000e+00,\n",
       "        3.1680000e-01],\n",
       "       [2.6639910e+03, 2.6018770e+03, 1.2774200e+02, 1.9584000e+00,\n",
       "        3.9309999e-01]], dtype=float32)"
      ]
     },
     "execution_count": 12,
     "metadata": {},
     "output_type": "execute_result"
    }
   ],
   "source": [
    "%%time\n",
    "\n",
    "# create a Numpy array\n",
    "\n",
    "np_outs = np.array(np_outs_list, dtype=\"float32\")\n",
    "np_outs"
   ]
  },
  {
   "cell_type": "code",
   "execution_count": 13,
   "id": "pressing-albuquerque",
   "metadata": {},
   "outputs": [
    {
     "data": {
      "text/plain": [
       "1000"
      ]
     },
     "execution_count": 13,
     "metadata": {},
     "output_type": "execute_result"
    }
   ],
   "source": [
    "len(np_outs)"
   ]
  },
  {
   "cell_type": "code",
   "execution_count": 14,
   "id": "animated-surge",
   "metadata": {},
   "outputs": [
    {
     "name": "stdout",
     "output_type": "stream",
     "text": [
      "tensor([[1.9024e+00, 2.9024e+00, 2.9024e+00,  ..., 8.5861e-01, 3.2329e-01,\n",
      "         2.7900e+02],\n",
      "        [2.0052e+00, 3.0052e+00, 3.0052e+00,  ..., 4.4138e-01, 8.1721e-01,\n",
      "         2.7900e+02],\n",
      "        [1.9430e+00, 2.9430e+00, 2.9430e+00,  ..., 9.2658e-01, 3.8100e-02,\n",
      "         2.7700e+02],\n",
      "        ...,\n",
      "        [1.3717e+00, 2.3717e+00, 2.3717e+00,  ..., 1.5540e-01, 1.1963e-01,\n",
      "         2.8500e+02],\n",
      "        [1.9996e+00, 2.9996e+00, 2.9996e+00,  ..., 1.3988e-01, 6.2921e-01,\n",
      "         2.8800e+02],\n",
      "        [2.1921e+00, 3.1921e+00, 3.1921e+00,  ..., 8.8265e-01, 2.5042e-01,\n",
      "         2.7500e+02]])\n",
      "tensor([[1.9024e+00, 2.9024e+00, 2.9024e+00,  ..., 8.5861e-01, 3.2329e-01,\n",
      "         2.7900e+02],\n",
      "        [2.0052e+00, 3.0052e+00, 3.0052e+00,  ..., 4.4138e-01, 8.1721e-01,\n",
      "         2.7900e+02],\n",
      "        [1.9430e+00, 2.9430e+00, 2.9430e+00,  ..., 9.2658e-01, 3.8100e-02,\n",
      "         2.7700e+02],\n",
      "        ...,\n",
      "        [1.3717e+00, 2.3717e+00, 2.3717e+00,  ..., 1.5540e-01, 1.1963e-01,\n",
      "         2.8500e+02],\n",
      "        [1.9996e+00, 2.9996e+00, 2.9996e+00,  ..., 1.3988e-01, 6.2921e-01,\n",
      "         2.8800e+02],\n",
      "        [2.1921e+00, 3.1921e+00, 3.1921e+00,  ..., 8.8265e-01, 2.5042e-01,\n",
      "         2.7500e+02]])\n",
      "tensor([[5.0142e-01, 1.5014e+00, 1.5014e+00,  ..., 9.6421e-01, 7.1700e-01,\n",
      "         2.8800e+02],\n",
      "        [3.1766e-01, 1.3177e+00, 1.3177e+00,  ..., 8.8985e-01, 7.9575e-01,\n",
      "         2.8300e+02],\n",
      "        [2.0946e+00, 3.0946e+00, 3.0946e+00,  ..., 6.8535e-01, 2.3252e-01,\n",
      "         2.8400e+02],\n",
      "        ...,\n",
      "        [2.4216e+00, 3.4216e+00, 3.4216e+00,  ..., 9.0290e-01, 9.2163e-01,\n",
      "         2.8700e+02],\n",
      "        [8.7748e-01, 1.8775e+00, 1.8775e+00,  ..., 1.9170e-01, 5.5725e-01,\n",
      "         2.8500e+02],\n",
      "        [1.7519e+00, 2.7519e+00, 2.7519e+00,  ..., 4.0958e-01, 4.2733e-01,\n",
      "         2.8800e+02]])\n",
      "CPU times: user 4.15 ms, sys: 4.07 ms, total: 8.22 ms\n",
      "Wall time: 7.58 ms\n"
     ]
    }
   ],
   "source": [
    "%%time\n",
    "\n",
    "# make the input tensors\n",
    "in_train_tensor = torch.from_numpy(in_train_np)\n",
    "print(in_train_tensor)\n",
    "in_validate_tensor = torch.from_numpy(in_validate_np)\n",
    "print(in_train_tensor)\n",
    "in_test_tensor = torch.from_numpy(in_test_np)\n",
    "print(in_test_tensor)"
   ]
  },
  {
   "cell_type": "code",
   "execution_count": 15,
   "id": "satellite-preliminary",
   "metadata": {},
   "outputs": [
    {
     "name": "stdout",
     "output_type": "stream",
     "text": [
      "done saving input tensor files\n"
     ]
    }
   ],
   "source": [
    "# write the input tensors to disk\n",
    "np.save('outputs/{}_{}_in_train_tensor.npy'.format(exp, matrix_size), in_train_tensor)\n",
    "np.save('outputs/{}_{}_in_test_tensor.npy'.format(exp, matrix_size), in_test_tensor)\n",
    "np.save('outputs/{}_{}_in_validate_tensor.npy'.format(exp, matrix_size), in_validate_tensor)\n",
    "print('done saving input tensor files')"
   ]
  },
  {
   "cell_type": "code",
   "execution_count": 16,
   "id": "german-chambers",
   "metadata": {},
   "outputs": [
    {
     "data": {
      "text/plain": [
       "1000"
      ]
     },
     "execution_count": 16,
     "metadata": {},
     "output_type": "execute_result"
    }
   ],
   "source": [
    "len(np_outs)"
   ]
  },
  {
   "cell_type": "code",
   "execution_count": 17,
   "id": "emotional-contemporary",
   "metadata": {},
   "outputs": [
    {
     "name": "stdout",
     "output_type": "stream",
     "text": [
      "train: 800, val: 100, test: 100\n"
     ]
    }
   ],
   "source": [
    "# split up the outputs in to the 80-10-10\n",
    "[out_train_np, out_validate_np, out_test_np] = np.array_split(np_outs, splits)\n",
    "print('train: {}, val: {}, test: {}'.format(len(out_train_np), len(out_validate_np), len(out_test_np)))"
   ]
  },
  {
   "cell_type": "code",
   "execution_count": 18,
   "id": "continued-recipient",
   "metadata": {},
   "outputs": [
    {
     "name": "stdout",
     "output_type": "stream",
     "text": [
      "tensor([[2.4282e+03, 2.3866e+03, 1.2177e+02, 2.1933e+00, 7.8960e-01],\n",
      "        [2.5635e+03, 2.5089e+03, 1.2374e+02, 2.1007e+00, 3.6280e-01],\n",
      "        [2.6460e+03, 2.5843e+03, 1.2507e+02, 1.8857e+00, 3.0590e-01],\n",
      "        ...,\n",
      "        [2.4836e+03, 2.4405e+03, 1.2004e+02, 2.1476e+00, 6.9500e-01],\n",
      "        [2.5095e+03, 2.4627e+03, 1.2229e+02, 2.1463e+00, 6.3120e-01],\n",
      "        [2.5432e+03, 2.4918e+03, 1.2412e+02, 1.9426e+00, 5.6630e-01]])\n",
      "tensor([[2.4282e+03, 2.3866e+03, 1.2177e+02, 2.1933e+00, 7.8960e-01],\n",
      "        [2.5635e+03, 2.5089e+03, 1.2374e+02, 2.1007e+00, 3.6280e-01],\n",
      "        [2.6460e+03, 2.5843e+03, 1.2507e+02, 1.8857e+00, 3.0590e-01],\n",
      "        ...,\n",
      "        [2.4836e+03, 2.4405e+03, 1.2004e+02, 2.1476e+00, 6.9500e-01],\n",
      "        [2.5095e+03, 2.4627e+03, 1.2229e+02, 2.1463e+00, 6.3120e-01],\n",
      "        [2.5432e+03, 2.4918e+03, 1.2412e+02, 1.9426e+00, 5.6630e-01]])\n",
      "tensor([[2.6313e+03, 2.5769e+03, 1.2280e+02, 2.0934e+00, 3.3100e-01],\n",
      "        [2.5720e+03, 2.5226e+03, 1.2054e+02, 2.1374e+00, 6.0120e-01],\n",
      "        [2.4469e+03, 2.3947e+03, 1.2778e+02, 1.9587e+00, 6.8830e-01],\n",
      "        [2.6685e+03, 2.6025e+03, 1.2576e+02, 2.0372e+00, 2.5850e-01],\n",
      "        [2.5409e+03, 2.4872e+03, 1.2400e+02, 2.0835e+00, 4.6020e-01],\n",
      "        [2.5536e+03, 2.5038e+03, 1.2243e+02, 2.1071e+00, 5.3210e-01],\n",
      "        [2.6806e+03, 2.6205e+03, 1.2397e+02, 2.0824e+00, 3.2850e-01],\n",
      "        [2.6060e+03, 2.5515e+03, 1.2462e+02, 2.0702e+00, 4.9570e-01],\n",
      "        [2.7051e+03, 2.6456e+03, 1.2288e+02, 2.1167e+00, 4.3140e-01],\n",
      "        [2.5541e+03, 2.5013e+03, 1.2669e+02, 2.0252e+00, 6.6400e-01],\n",
      "        [2.6859e+03, 2.6237e+03, 1.2507e+02, 2.0441e+00, 4.6680e-01],\n",
      "        [2.5483e+03, 2.4932e+03, 1.2350e+02, 2.0791e+00, 6.2240e-01],\n",
      "        [2.6233e+03, 2.5715e+03, 1.2272e+02, 2.1091e+00, 4.9990e-01],\n",
      "        [2.7562e+03, 2.6875e+03, 1.2553e+02, 2.1991e+00, 2.5780e-01],\n",
      "        [2.7381e+03, 2.6713e+03, 1.2563e+02, 2.0096e+00, 9.9000e-02],\n",
      "        [2.7515e+03, 2.6799e+03, 1.2667e+02, 2.0109e+00, 2.7390e-01],\n",
      "        [2.4335e+03, 2.3884e+03, 1.2172e+02, 2.1599e+00, 7.3110e-01],\n",
      "        [2.4145e+03, 2.3737e+03, 1.2090e+02, 2.1349e+00, 8.2940e-01],\n",
      "        [2.6196e+03, 2.5642e+03, 1.2390e+02, 2.0194e+00, 4.6060e-01],\n",
      "        [2.6525e+03, 2.5941e+03, 1.2668e+02, 2.1247e+00, 3.6910e-01],\n",
      "        [2.4371e+03, 2.3876e+03, 1.2482e+02, 2.1563e+00, 7.1020e-01],\n",
      "        [2.6524e+03, 2.5949e+03, 1.2103e+02, 2.0076e+00, 2.4180e-01],\n",
      "        [2.4559e+03, 2.4069e+03, 1.2426e+02, 1.9438e+00, 6.4170e-01],\n",
      "        [2.7993e+03, 2.7330e+03, 1.2807e+02, 1.9177e+00, 3.1900e-01],\n",
      "        [2.6402e+03, 2.5852e+03, 1.2244e+02, 2.1389e+00, 2.8980e-01],\n",
      "        [2.5952e+03, 2.5423e+03, 1.2266e+02, 2.1579e+00, 5.7700e-01],\n",
      "        [2.5323e+03, 2.4760e+03, 1.2762e+02, 1.9553e+00, 5.5710e-01],\n",
      "        [2.6982e+03, 2.6389e+03, 1.2215e+02, 2.0795e+00, 5.2120e-01],\n",
      "        [2.5477e+03, 2.4962e+03, 1.2130e+02, 2.2014e+00, 4.5820e-01],\n",
      "        [2.4400e+03, 2.3913e+03, 1.2450e+02, 1.9555e+00, 6.2570e-01],\n",
      "        [2.7440e+03, 2.6832e+03, 1.2016e+02, 1.9751e+00, 3.9350e-01],\n",
      "        [2.6184e+03, 2.5664e+03, 1.2123e+02, 2.1067e+00, 3.7130e-01],\n",
      "        [2.7825e+03, 2.7190e+03, 1.2107e+02, 2.1137e+00, 1.1300e-01],\n",
      "        [2.5600e+03, 2.5097e+03, 1.2356e+02, 2.1290e+00, 5.3230e-01],\n",
      "        [2.6593e+03, 2.6023e+03, 1.2329e+02, 2.1274e+00, 4.0810e-01],\n",
      "        [2.7471e+03, 2.6911e+03, 1.2216e+02, 2.1109e+00, 4.3690e-01],\n",
      "        [2.7721e+03, 2.7054e+03, 1.1586e+02, 1.8895e+00, 2.3010e-01],\n",
      "        [2.4227e+03, 2.3809e+03, 1.2155e+02, 2.1943e+00, 7.3640e-01],\n",
      "        [2.4165e+03, 2.3735e+03, 1.2178e+02, 2.0982e+00, 6.1770e-01],\n",
      "        [2.3428e+03, 2.3044e+03, 1.2093e+02, 2.0917e+00, 7.7330e-01],\n",
      "        [2.4288e+03, 2.3786e+03, 1.2251e+02, 2.0654e+00, 7.4560e-01],\n",
      "        [2.8231e+03, 2.7511e+03, 1.2416e+02, 1.9899e+00, 2.4830e-01],\n",
      "        [2.6155e+03, 2.5630e+03, 1.2232e+02, 2.0688e+00, 5.6070e-01],\n",
      "        [2.5487e+03, 2.5016e+03, 1.2025e+02, 2.1143e+00, 6.1420e-01],\n",
      "        [2.4237e+03, 2.3805e+03, 1.2206e+02, 2.0970e+00, 6.3020e-01],\n",
      "        [2.4371e+03, 2.3917e+03, 1.2264e+02, 1.9937e+00, 7.3540e-01],\n",
      "        [2.5498e+03, 2.4993e+03, 1.2274e+02, 2.0998e+00, 3.6510e-01],\n",
      "        [2.5882e+03, 2.5310e+03, 1.2440e+02, 2.0829e+00, 3.4220e-01],\n",
      "        [2.7247e+03, 2.6685e+03, 1.1715e+02, 2.0631e+00, 4.6240e-01],\n",
      "        [2.7425e+03, 2.6806e+03, 1.2643e+02, 2.1367e+00, 2.4260e-01],\n",
      "        [2.5313e+03, 2.4733e+03, 1.2439e+02, 1.9367e+00, 5.9150e-01],\n",
      "        [2.6211e+03, 2.5677e+03, 1.2652e+02, 2.1409e+00, 4.3570e-01],\n",
      "        [2.5977e+03, 2.5449e+03, 1.2330e+02, 2.0526e+00, 5.5790e-01],\n",
      "        [2.5359e+03, 2.4870e+03, 1.2388e+02, 2.0958e+00, 6.4690e-01],\n",
      "        [2.7652e+03, 2.7018e+03, 1.2371e+02, 2.0796e+00, 4.0210e-01],\n",
      "        [2.8016e+03, 2.7273e+03, 1.2555e+02, 2.0136e+00, 1.5370e-01],\n",
      "        [2.4167e+03, 2.3724e+03, 1.2250e+02, 2.1084e+00, 7.4860e-01],\n",
      "        [2.5564e+03, 2.4977e+03, 1.2180e+02, 2.0284e+00, 5.5360e-01],\n",
      "        [2.4476e+03, 2.4000e+03, 1.2317e+02, 2.1213e+00, 7.0420e-01],\n",
      "        [2.5850e+03, 2.5336e+03, 1.2158e+02, 2.1725e+00, 4.9410e-01],\n",
      "        [2.5713e+03, 2.5214e+03, 1.2399e+02, 2.1320e+00, 5.0400e-01],\n",
      "        [2.6713e+03, 2.5983e+03, 1.2492e+02, 1.9838e+00, 4.5940e-01],\n",
      "        [2.6896e+03, 2.6283e+03, 1.2513e+02, 1.8863e+00, 3.7830e-01],\n",
      "        [2.6907e+03, 2.6335e+03, 1.2229e+02, 2.0563e+00, 3.9240e-01],\n",
      "        [2.5739e+03, 2.5261e+03, 1.2026e+02, 2.1144e+00, 6.2270e-01],\n",
      "        [2.4411e+03, 2.3985e+03, 1.2037e+02, 2.1448e+00, 7.0660e-01],\n",
      "        [2.6921e+03, 2.6327e+03, 1.2408e+02, 2.1112e+00, 4.6550e-01],\n",
      "        [2.4240e+03, 2.3820e+03, 1.2104e+02, 2.1608e+00, 7.5400e-01],\n",
      "        [2.7946e+03, 2.7236e+03, 1.2728e+02, 1.9518e+00, 3.3360e-01],\n",
      "        [2.7402e+03, 2.6785e+03, 1.2403e+02, 1.9522e+00, 2.9340e-01],\n",
      "        [2.5884e+03, 2.5406e+03, 1.2026e+02, 2.1585e+00, 5.9700e-01],\n",
      "        [2.5465e+03, 2.4970e+03, 1.2201e+02, 2.1354e+00, 4.4770e-01],\n",
      "        [2.7889e+03, 2.7219e+03, 1.2427e+02, 2.0928e+00, 1.8290e-01],\n",
      "        [2.4882e+03, 2.4400e+03, 1.2176e+02, 2.0735e+00, 7.2570e-01],\n",
      "        [2.5380e+03, 2.4832e+03, 1.2628e+02, 1.9976e+00, 6.0770e-01],\n",
      "        [2.6398e+03, 2.5811e+03, 1.2661e+02, 2.0954e+00, 4.4220e-01],\n",
      "        [2.5505e+03, 2.5000e+03, 1.2413e+02, 2.1127e+00, 6.0150e-01],\n",
      "        [2.4935e+03, 2.4477e+03, 1.2284e+02, 2.1015e+00, 5.6630e-01],\n",
      "        [2.7130e+03, 2.6542e+03, 1.2401e+02, 2.0866e+00, 3.1700e-01],\n",
      "        [2.6472e+03, 2.5941e+03, 1.2149e+02, 2.1329e+00, 3.1480e-01],\n",
      "        [2.6519e+03, 2.6007e+03, 1.2111e+02, 2.1533e+00, 3.0160e-01],\n",
      "        [2.4614e+03, 2.4162e+03, 1.2261e+02, 2.1303e+00, 6.8650e-01],\n",
      "        [2.6894e+03, 2.6329e+03, 1.2227e+02, 2.0562e+00, 4.0050e-01],\n",
      "        [2.5344e+03, 2.4865e+03, 1.2268e+02, 2.1453e+00, 5.2010e-01],\n",
      "        [2.4036e+03, 2.3538e+03, 1.2370e+02, 2.0007e+00, 7.1840e-01],\n",
      "        [2.5348e+03, 2.4870e+03, 1.2266e+02, 2.1582e+00, 5.5420e-01],\n",
      "        [2.4537e+03, 2.4044e+03, 1.2449e+02, 1.9553e+00, 6.0210e-01],\n",
      "        [2.7037e+03, 2.6459e+03, 1.2329e+02, 2.0663e+00, 3.3230e-01],\n",
      "        [2.4338e+03, 2.3907e+03, 1.2228e+02, 2.1908e+00, 7.2320e-01],\n",
      "        [2.7057e+03, 2.6472e+03, 1.1675e+02, 2.0710e+00, 2.9520e-01],\n",
      "        [2.5203e+03, 2.4638e+03, 1.2233e+02, 2.0255e+00, 6.7660e-01],\n",
      "        [2.4851e+03, 2.4352e+03, 1.2256e+02, 2.1352e+00, 6.6910e-01],\n",
      "        [2.7677e+03, 2.7020e+03, 1.2319e+02, 2.0706e+00, 3.7380e-01],\n",
      "        [2.3618e+03, 2.3233e+03, 1.2180e+02, 2.1941e+00, 8.7140e-01],\n",
      "        [2.5638e+03, 2.5080e+03, 1.2418e+02, 2.1379e+00, 3.9940e-01],\n",
      "        [2.4383e+03, 2.3917e+03, 1.2541e+02, 2.0337e+00, 6.1700e-01],\n",
      "        [2.6674e+03, 2.6076e+03, 1.2541e+02, 1.9926e+00, 4.4540e-01],\n",
      "        [2.4323e+03, 2.3901e+03, 1.0937e+02, 1.7425e+00, 6.8770e-01],\n",
      "        [2.6859e+03, 2.6306e+03, 1.2220e+02, 2.1262e+00, 3.1680e-01],\n",
      "        [2.6640e+03, 2.6019e+03, 1.2774e+02, 1.9584e+00, 3.9310e-01]])\n",
      "CPU times: user 6.48 ms, sys: 232 µs, total: 6.71 ms\n",
      "Wall time: 5.96 ms\n"
     ]
    }
   ],
   "source": [
    "%%time\n",
    "\n",
    "# make the output tensors\n",
    "out_train_tensor = torch.from_numpy(out_train_np)\n",
    "print(out_train_tensor)\n",
    "out_validate_tensor = torch.from_numpy(out_validate_np)\n",
    "print(out_train_tensor)\n",
    "out_test_tensor = torch.from_numpy(out_test_np)\n",
    "print(out_test_tensor)"
   ]
  },
  {
   "cell_type": "code",
   "execution_count": 19,
   "id": "seasonal-vienna",
   "metadata": {},
   "outputs": [
    {
     "name": "stdout",
     "output_type": "stream",
     "text": [
      "done saving output tensor files\n"
     ]
    }
   ],
   "source": [
    "# write the output tensors to disk\n",
    "np.save('outputs/{}_{}_out_train_tensor.npy'.format(exp, matrix_size), out_train_tensor)\n",
    "np.save('outputs/{}_{}_out_test_tensor.npy'.format(exp, matrix_size), out_test_tensor)\n",
    "np.save('outputs/{}_{}_out_validate_tensor.npy'.format(exp, matrix_size), out_validate_tensor)\n",
    "print('done saving output tensor files')"
   ]
  },
  {
   "cell_type": "code",
   "execution_count": 20,
   "id": "recent-seating",
   "metadata": {},
   "outputs": [
    {
     "name": "stdout",
     "output_type": "stream",
     "text": [
      "\n",
      "\n",
      "Shape of in_train_tensor: torch.Size([800, 15])\n",
      "Datatype of in_train_tensor: torch.float32\n",
      "Device in_train_tensor is stored on: cpu\n",
      "\n",
      "\n",
      "Shape of in_test_tensor : torch.Size([100, 15])\n",
      "Datatype of in_test_tensor: torch.float32\n",
      "Device in_test_tensor is stored on: cpu\n",
      "\n",
      "\n",
      "Shape of in_validate_tensor: torch.Size([100, 15])\n",
      "Datatype of in_validate_tensor: torch.float32\n",
      "Device in_validate_tensor is stored on: cpu\n"
     ]
    }
   ],
   "source": [
    "# looking at the tensors\n",
    "print(\"\\n\")\n",
    "print(f\"Shape of in_train_tensor: {in_train_tensor.shape}\")\n",
    "print(f\"Datatype of in_train_tensor: {in_train_tensor.dtype}\")\n",
    "print(f\"Device in_train_tensor is stored on: {in_train_tensor.device}\")\n",
    "print(\"\\n\")\n",
    "print(f\"Shape of in_test_tensor : {in_test_tensor.shape}\")\n",
    "print(f\"Datatype of in_test_tensor: {in_test_tensor.dtype}\")\n",
    "print(f\"Device in_test_tensor is stored on: {in_test_tensor.device}\")\n",
    "print(\"\\n\")\n",
    "print(f\"Shape of in_validate_tensor: {in_validate_tensor.shape}\")\n",
    "print(f\"Datatype of in_validate_tensor: {in_validate_tensor.dtype}\")\n",
    "print(f\"Device in_validate_tensor is stored on: {in_validate_tensor.device}\")"
   ]
  },
  {
   "cell_type": "code",
   "execution_count": 21,
   "id": "supreme-edwards",
   "metadata": {},
   "outputs": [
    {
     "name": "stdout",
     "output_type": "stream",
     "text": [
      "\n",
      "\n",
      "Shape of out_train_tensor: torch.Size([800, 5])\n",
      "Datatype of out_train_tensor: torch.float32\n",
      "Device tensor is stored on: cpu\n",
      "\n",
      "\n",
      "Shape of out_test_tensor : torch.Size([100, 5])\n",
      "Datatype of out_test_tensor: torch.float32\n",
      "Device out_test_tensor is stored on: cpu\n",
      "\n",
      "\n",
      "Shape of out_validate_tensor: torch.Size([100, 5])\n",
      "Datatype of out_validate_tensor: torch.float32\n",
      "Device out_validate_tensor is stored on: cpu\n"
     ]
    }
   ],
   "source": [
    "# looking at the tensors\n",
    "print(\"\\n\")\n",
    "print(f\"Shape of out_train_tensor: {out_train_tensor.shape}\")\n",
    "print(f\"Datatype of out_train_tensor: {out_train_tensor.dtype}\")\n",
    "print(f\"Device tensor is stored on: {out_train_tensor.device}\")\n",
    "print(\"\\n\")\n",
    "print(f\"Shape of out_test_tensor : {out_test_tensor.shape}\")\n",
    "print(f\"Datatype of out_test_tensor: {out_test_tensor.dtype}\")\n",
    "print(f\"Device out_test_tensor is stored on: {out_test_tensor.device}\")\n",
    "print(\"\\n\")\n",
    "print(f\"Shape of out_validate_tensor: {out_validate_tensor.shape}\")\n",
    "print(f\"Datatype of out_validate_tensor: {out_validate_tensor.dtype}\")\n",
    "print(f\"Device out_validate_tensor is stored on: {out_validate_tensor.device}\")"
   ]
  },
  {
   "cell_type": "code",
   "execution_count": 22,
   "id": "varied-track",
   "metadata": {},
   "outputs": [
    {
     "data": {
      "text/plain": [
       "\"\\nto reload them from disk kinda looks like this, but I'm not going to do that.\\n\\nout_np = np.load('outputs/1k_outputs.npy')\\nout_tensor = torch.from_numpy(out_np)\\nout_tensor\\n\""
      ]
     },
     "execution_count": 22,
     "metadata": {},
     "output_type": "execute_result"
    }
   ],
   "source": [
    "'''\n",
    "to reload them from disk kinda looks like this, but I'm not going to do that.\n",
    "\n",
    "out_np = np.load('outputs/1k_outputs.npy')\n",
    "out_tensor = torch.from_numpy(out_np)\n",
    "out_tensor\n",
    "'''\n"
   ]
  },
  {
   "cell_type": "code",
   "execution_count": null,
   "id": "creative-allocation",
   "metadata": {},
   "outputs": [],
   "source": []
  }
 ],
 "metadata": {
  "kernelspec": {
   "display_name": "Python 3",
   "language": "python",
   "name": "python3"
  },
  "language_info": {
   "codemirror_mode": {
    "name": "ipython",
    "version": 3
   },
   "file_extension": ".py",
   "mimetype": "text/x-python",
   "name": "python",
   "nbconvert_exporter": "python",
   "pygments_lexer": "ipython3",
   "version": "3.8.8"
  }
 },
 "nbformat": 4,
 "nbformat_minor": 5
}
